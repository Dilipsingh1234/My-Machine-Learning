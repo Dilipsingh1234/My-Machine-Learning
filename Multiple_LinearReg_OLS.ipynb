{
 "cells": [
  {
   "cell_type": "code",
   "execution_count": 9,
   "id": "fa822228",
   "metadata": {},
   "outputs": [],
   "source": [
    "import numpy as np\n",
    "import pandas as pd\n",
    "from sklearn.model_selection import train_test_split"
   ]
  },
  {
   "cell_type": "code",
   "execution_count": 31,
   "id": "c0a6c44a",
   "metadata": {},
   "outputs": [],
   "source": [
    "class MultiLinearReg:\n",
    "    \n",
    "    def __init__(self):\n",
    "        self.coef_ = None\n",
    "        self.intercept_ = None\n",
    "        \n",
    "    def fit(self,X_train,y_train):\n",
    "        X_train = np.insert(X_train,0,1,axis=1)\n",
    "        \n",
    "        # calcuate the coeffs\n",
    "        betas = np.linalg.inv(np.dot(X_train.T,X_train)).dot(X_train.T).dot(y_train)\n",
    "        self.intercept_ = betas[0]\n",
    "        self.coef_ = betas[1:]\n",
    "        return self.intercept_,self.coef_\n",
    "    \n",
    "    def predict(self,X_test):\n",
    "        y_pred = np.dot(X_test,self.coef_) + self.intercept_\n",
    "        return y_pred"
   ]
  },
  {
   "cell_type": "code",
   "execution_count": 11,
   "id": "67a12f50",
   "metadata": {},
   "outputs": [
    {
     "data": {
      "text/html": [
       "<div>\n",
       "<style scoped>\n",
       "    .dataframe tbody tr th:only-of-type {\n",
       "        vertical-align: middle;\n",
       "    }\n",
       "\n",
       "    .dataframe tbody tr th {\n",
       "        vertical-align: top;\n",
       "    }\n",
       "\n",
       "    .dataframe thead th {\n",
       "        text-align: right;\n",
       "    }\n",
       "</style>\n",
       "<table border=\"1\" class=\"dataframe\">\n",
       "  <thead>\n",
       "    <tr style=\"text-align: right;\">\n",
       "      <th></th>\n",
       "      <th>BuildingClass</th>\n",
       "      <th>StreetSize</th>\n",
       "      <th>LotArea</th>\n",
       "      <th>BuildingType</th>\n",
       "      <th>OverallCondition</th>\n",
       "      <th>YearRemodeled</th>\n",
       "      <th>LivingAreaSize</th>\n",
       "      <th>Bathroom</th>\n",
       "      <th>Bedroom</th>\n",
       "      <th>Kitchen</th>\n",
       "      <th>TotalRooms</th>\n",
       "      <th>Fireplaces</th>\n",
       "      <th>GarageCars</th>\n",
       "      <th>GarageArea</th>\n",
       "      <th>SaleCondition</th>\n",
       "      <th>SalePrice</th>\n",
       "    </tr>\n",
       "  </thead>\n",
       "  <tbody>\n",
       "    <tr>\n",
       "      <th>0</th>\n",
       "      <td>60.0</td>\n",
       "      <td>65.0</td>\n",
       "      <td>8450.0</td>\n",
       "      <td>1Family</td>\n",
       "      <td>5.0</td>\n",
       "      <td>2003.0</td>\n",
       "      <td>1710.0</td>\n",
       "      <td>2.0</td>\n",
       "      <td>3.0</td>\n",
       "      <td>1.0</td>\n",
       "      <td>8.0</td>\n",
       "      <td>0.0</td>\n",
       "      <td>2.0</td>\n",
       "      <td>548.0</td>\n",
       "      <td>Normal</td>\n",
       "      <td>208500</td>\n",
       "    </tr>\n",
       "    <tr>\n",
       "      <th>1</th>\n",
       "      <td>20.0</td>\n",
       "      <td>80.0</td>\n",
       "      <td>9600.0</td>\n",
       "      <td>1Family</td>\n",
       "      <td>8.0</td>\n",
       "      <td>NaN</td>\n",
       "      <td>1262.0</td>\n",
       "      <td>2.0</td>\n",
       "      <td>3.0</td>\n",
       "      <td>1.0</td>\n",
       "      <td>6.0</td>\n",
       "      <td>1.0</td>\n",
       "      <td>2.0</td>\n",
       "      <td>460.0</td>\n",
       "      <td>Normal</td>\n",
       "      <td>181500</td>\n",
       "    </tr>\n",
       "    <tr>\n",
       "      <th>2</th>\n",
       "      <td>60.0</td>\n",
       "      <td>68.0</td>\n",
       "      <td>11250.0</td>\n",
       "      <td>1Family</td>\n",
       "      <td>5.0</td>\n",
       "      <td>NaN</td>\n",
       "      <td>1786.0</td>\n",
       "      <td>2.0</td>\n",
       "      <td>3.0</td>\n",
       "      <td>1.0</td>\n",
       "      <td>6.0</td>\n",
       "      <td>1.0</td>\n",
       "      <td>2.0</td>\n",
       "      <td>608.0</td>\n",
       "      <td>Normal</td>\n",
       "      <td>223500</td>\n",
       "    </tr>\n",
       "    <tr>\n",
       "      <th>3</th>\n",
       "      <td>70.0</td>\n",
       "      <td>60.0</td>\n",
       "      <td>9550.0</td>\n",
       "      <td>1Family</td>\n",
       "      <td>5.0</td>\n",
       "      <td>1970.0</td>\n",
       "      <td>1717.0</td>\n",
       "      <td>1.0</td>\n",
       "      <td>3.0</td>\n",
       "      <td>1.0</td>\n",
       "      <td>7.0</td>\n",
       "      <td>1.0</td>\n",
       "      <td>3.0</td>\n",
       "      <td>642.0</td>\n",
       "      <td>Abnormal</td>\n",
       "      <td>140000</td>\n",
       "    </tr>\n",
       "    <tr>\n",
       "      <th>4</th>\n",
       "      <td>60.0</td>\n",
       "      <td>84.0</td>\n",
       "      <td>14260.0</td>\n",
       "      <td>1Family</td>\n",
       "      <td>5.0</td>\n",
       "      <td>2000.0</td>\n",
       "      <td>2198.0</td>\n",
       "      <td>2.0</td>\n",
       "      <td>4.0</td>\n",
       "      <td>NaN</td>\n",
       "      <td>9.0</td>\n",
       "      <td>1.0</td>\n",
       "      <td>3.0</td>\n",
       "      <td>836.0</td>\n",
       "      <td>Normal</td>\n",
       "      <td>250000</td>\n",
       "    </tr>\n",
       "  </tbody>\n",
       "</table>\n",
       "</div>"
      ],
      "text/plain": [
       "   BuildingClass  StreetSize  LotArea BuildingType  OverallCondition  \\\n",
       "0           60.0        65.0   8450.0      1Family               5.0   \n",
       "1           20.0        80.0   9600.0      1Family               8.0   \n",
       "2           60.0        68.0  11250.0      1Family               5.0   \n",
       "3           70.0        60.0   9550.0      1Family               5.0   \n",
       "4           60.0        84.0  14260.0      1Family               5.0   \n",
       "\n",
       "   YearRemodeled  LivingAreaSize  Bathroom  Bedroom  Kitchen  TotalRooms  \\\n",
       "0         2003.0          1710.0       2.0      3.0      1.0         8.0   \n",
       "1            NaN          1262.0       2.0      3.0      1.0         6.0   \n",
       "2            NaN          1786.0       2.0      3.0      1.0         6.0   \n",
       "3         1970.0          1717.0       1.0      3.0      1.0         7.0   \n",
       "4         2000.0          2198.0       2.0      4.0      NaN         9.0   \n",
       "\n",
       "   Fireplaces  GarageCars  GarageArea SaleCondition  SalePrice  \n",
       "0         0.0         2.0       548.0        Normal     208500  \n",
       "1         1.0         2.0       460.0        Normal     181500  \n",
       "2         1.0         2.0       608.0        Normal     223500  \n",
       "3         1.0         3.0       642.0      Abnormal     140000  \n",
       "4         1.0         3.0       836.0        Normal     250000  "
      ]
     },
     "execution_count": 11,
     "metadata": {},
     "output_type": "execute_result"
    }
   ],
   "source": [
    "data = pd.read_csv(\"data/housing_data.csv\")\n",
    "data.head()\n"
   ]
  },
  {
   "cell_type": "code",
   "execution_count": 12,
   "id": "a75ba35e",
   "metadata": {},
   "outputs": [
    {
     "data": {
      "text/html": [
       "<div>\n",
       "<style scoped>\n",
       "    .dataframe tbody tr th:only-of-type {\n",
       "        vertical-align: middle;\n",
       "    }\n",
       "\n",
       "    .dataframe tbody tr th {\n",
       "        vertical-align: top;\n",
       "    }\n",
       "\n",
       "    .dataframe thead th {\n",
       "        text-align: right;\n",
       "    }\n",
       "</style>\n",
       "<table border=\"1\" class=\"dataframe\">\n",
       "  <thead>\n",
       "    <tr style=\"text-align: right;\">\n",
       "      <th></th>\n",
       "      <th>BuildingClass</th>\n",
       "      <th>StreetSize</th>\n",
       "      <th>LotArea</th>\n",
       "      <th>OverallCondition</th>\n",
       "      <th>YearRemodeled</th>\n",
       "      <th>LivingAreaSize</th>\n",
       "      <th>Bathroom</th>\n",
       "      <th>Bedroom</th>\n",
       "      <th>Kitchen</th>\n",
       "      <th>TotalRooms</th>\n",
       "      <th>Fireplaces</th>\n",
       "      <th>GarageCars</th>\n",
       "      <th>GarageArea</th>\n",
       "      <th>SalePrice</th>\n",
       "    </tr>\n",
       "  </thead>\n",
       "  <tbody>\n",
       "    <tr>\n",
       "      <th>0</th>\n",
       "      <td>60.0</td>\n",
       "      <td>65.0</td>\n",
       "      <td>8450.0</td>\n",
       "      <td>5.0</td>\n",
       "      <td>2003.0</td>\n",
       "      <td>1710.0</td>\n",
       "      <td>2.0</td>\n",
       "      <td>3.0</td>\n",
       "      <td>1.0</td>\n",
       "      <td>8.0</td>\n",
       "      <td>0.0</td>\n",
       "      <td>2.0</td>\n",
       "      <td>548.0</td>\n",
       "      <td>208500</td>\n",
       "    </tr>\n",
       "    <tr>\n",
       "      <th>1</th>\n",
       "      <td>20.0</td>\n",
       "      <td>80.0</td>\n",
       "      <td>9600.0</td>\n",
       "      <td>8.0</td>\n",
       "      <td>NaN</td>\n",
       "      <td>1262.0</td>\n",
       "      <td>2.0</td>\n",
       "      <td>3.0</td>\n",
       "      <td>1.0</td>\n",
       "      <td>6.0</td>\n",
       "      <td>1.0</td>\n",
       "      <td>2.0</td>\n",
       "      <td>460.0</td>\n",
       "      <td>181500</td>\n",
       "    </tr>\n",
       "    <tr>\n",
       "      <th>2</th>\n",
       "      <td>60.0</td>\n",
       "      <td>68.0</td>\n",
       "      <td>11250.0</td>\n",
       "      <td>5.0</td>\n",
       "      <td>NaN</td>\n",
       "      <td>1786.0</td>\n",
       "      <td>2.0</td>\n",
       "      <td>3.0</td>\n",
       "      <td>1.0</td>\n",
       "      <td>6.0</td>\n",
       "      <td>1.0</td>\n",
       "      <td>2.0</td>\n",
       "      <td>608.0</td>\n",
       "      <td>223500</td>\n",
       "    </tr>\n",
       "    <tr>\n",
       "      <th>3</th>\n",
       "      <td>70.0</td>\n",
       "      <td>60.0</td>\n",
       "      <td>9550.0</td>\n",
       "      <td>5.0</td>\n",
       "      <td>1970.0</td>\n",
       "      <td>1717.0</td>\n",
       "      <td>1.0</td>\n",
       "      <td>3.0</td>\n",
       "      <td>1.0</td>\n",
       "      <td>7.0</td>\n",
       "      <td>1.0</td>\n",
       "      <td>3.0</td>\n",
       "      <td>642.0</td>\n",
       "      <td>140000</td>\n",
       "    </tr>\n",
       "    <tr>\n",
       "      <th>4</th>\n",
       "      <td>60.0</td>\n",
       "      <td>84.0</td>\n",
       "      <td>14260.0</td>\n",
       "      <td>5.0</td>\n",
       "      <td>2000.0</td>\n",
       "      <td>2198.0</td>\n",
       "      <td>2.0</td>\n",
       "      <td>4.0</td>\n",
       "      <td>NaN</td>\n",
       "      <td>9.0</td>\n",
       "      <td>1.0</td>\n",
       "      <td>3.0</td>\n",
       "      <td>836.0</td>\n",
       "      <td>250000</td>\n",
       "    </tr>\n",
       "  </tbody>\n",
       "</table>\n",
       "</div>"
      ],
      "text/plain": [
       "   BuildingClass  StreetSize  LotArea  OverallCondition  YearRemodeled  \\\n",
       "0           60.0        65.0   8450.0               5.0         2003.0   \n",
       "1           20.0        80.0   9600.0               8.0            NaN   \n",
       "2           60.0        68.0  11250.0               5.0            NaN   \n",
       "3           70.0        60.0   9550.0               5.0         1970.0   \n",
       "4           60.0        84.0  14260.0               5.0         2000.0   \n",
       "\n",
       "   LivingAreaSize  Bathroom  Bedroom  Kitchen  TotalRooms  Fireplaces  \\\n",
       "0          1710.0       2.0      3.0      1.0         8.0         0.0   \n",
       "1          1262.0       2.0      3.0      1.0         6.0         1.0   \n",
       "2          1786.0       2.0      3.0      1.0         6.0         1.0   \n",
       "3          1717.0       1.0      3.0      1.0         7.0         1.0   \n",
       "4          2198.0       2.0      4.0      NaN         9.0         1.0   \n",
       "\n",
       "   GarageCars  GarageArea  SalePrice  \n",
       "0         2.0       548.0     208500  \n",
       "1         2.0       460.0     181500  \n",
       "2         2.0       608.0     223500  \n",
       "3         3.0       642.0     140000  \n",
       "4         3.0       836.0     250000  "
      ]
     },
     "execution_count": 12,
     "metadata": {},
     "output_type": "execute_result"
    }
   ],
   "source": [
    "data.select_dtypes(include=[\"object\",\"category\"])\n",
    "data.drop(columns=data.select_dtypes(include=[\"object\",\"category\"]).columns,inplace=True)\n",
    "data.head()"
   ]
  },
  {
   "cell_type": "code",
   "execution_count": 14,
   "id": "6a8425e8",
   "metadata": {},
   "outputs": [],
   "source": [
    "X = data.iloc[:,0:13]\n",
    "Y=data.iloc[:,13]\n",
    "X_train,X_test,y_train,y_test = train_test_split(X,Y,test_size=0.30,random_state=24)"
   ]
  },
  {
   "cell_type": "code",
   "execution_count": 15,
   "id": "109d7ce8",
   "metadata": {},
   "outputs": [
    {
     "data": {
      "text/plain": [
       "BuildingClass        52\n",
       "StreetSize          216\n",
       "LotArea              57\n",
       "OverallCondition     36\n",
       "YearRemodeled        54\n",
       "LivingAreaSize       59\n",
       "Bathroom             37\n",
       "Bedroom              49\n",
       "Kitchen              55\n",
       "TotalRooms           46\n",
       "Fireplaces           56\n",
       "GarageCars           41\n",
       "GarageArea           48\n",
       "dtype: int64"
      ]
     },
     "execution_count": 15,
     "metadata": {},
     "output_type": "execute_result"
    }
   ],
   "source": [
    "X_train.isnull().sum()"
   ]
  },
  {
   "cell_type": "code",
   "execution_count": 16,
   "id": "3e4377f7",
   "metadata": {},
   "outputs": [
    {
     "name": "stdout",
     "output_type": "stream",
     "text": [
      "['BuildingClass', 'StreetSize', 'LotArea', 'OverallCondition', 'YearRemodeled', 'LivingAreaSize', 'Bathroom', 'Bedroom', 'Kitchen', 'TotalRooms', 'Fireplaces', 'GarageCars', 'GarageArea']\n"
     ]
    }
   ],
   "source": [
    "cols = X_train.columns.tolist()\n",
    "print(cols)"
   ]
  },
  {
   "cell_type": "code",
   "execution_count": 17,
   "id": "cc8d06e4",
   "metadata": {},
   "outputs": [],
   "source": [
    "for col in cols:\n",
    "    mean_val = X_train[col].mean()\n",
    "    X_train[col].fillna(mean_val, inplace=True)\n",
    "    X_test[col].fillna(mean_val, inplace=True)\n"
   ]
  },
  {
   "cell_type": "code",
   "execution_count": 19,
   "id": "875eab5d",
   "metadata": {},
   "outputs": [
    {
     "data": {
      "text/plain": [
       "0"
      ]
     },
     "execution_count": 19,
     "metadata": {},
     "output_type": "execute_result"
    }
   ],
   "source": [
    "y_train.isnull().sum()\n"
   ]
  },
  {
   "cell_type": "code",
   "execution_count": 20,
   "id": "78b7df47",
   "metadata": {},
   "outputs": [
    {
     "data": {
      "text/plain": [
       "BuildingClass       0\n",
       "StreetSize          0\n",
       "LotArea             0\n",
       "OverallCondition    0\n",
       "YearRemodeled       0\n",
       "LivingAreaSize      0\n",
       "Bathroom            0\n",
       "Bedroom             0\n",
       "Kitchen             0\n",
       "TotalRooms          0\n",
       "Fireplaces          0\n",
       "GarageCars          0\n",
       "GarageArea          0\n",
       "dtype: int64"
      ]
     },
     "execution_count": 20,
     "metadata": {},
     "output_type": "execute_result"
    }
   ],
   "source": [
    "X_train.isnull().sum()\n"
   ]
  },
  {
   "cell_type": "code",
   "execution_count": 21,
   "id": "5275badc",
   "metadata": {},
   "outputs": [],
   "source": [
    "from sklearn.preprocessing import StandardScaler"
   ]
  },
  {
   "cell_type": "code",
   "execution_count": 22,
   "id": "1aa979ea",
   "metadata": {},
   "outputs": [],
   "source": [
    "std = StandardScaler()\n",
    "X_train = std.fit_transform(X_train)\n",
    "X_test = std.transform(X_test)"
   ]
  },
  {
   "cell_type": "code",
   "execution_count": 23,
   "id": "d64c32c7",
   "metadata": {},
   "outputs": [],
   "source": [
    "from sklearn.linear_model import LinearRegression"
   ]
  },
  {
   "cell_type": "code",
   "execution_count": 24,
   "id": "b9e4ef6c",
   "metadata": {},
   "outputs": [],
   "source": [
    "LinReg = LinearRegression()\n",
    "LinReg.fit(X_train,y_train)\n",
    "Y_prediction=LinReg.predict(X_test)"
   ]
  },
  {
   "cell_type": "code",
   "execution_count": 25,
   "id": "e39f38b3",
   "metadata": {},
   "outputs": [],
   "source": [
    "from sklearn.metrics import mean_squared_error\n"
   ]
  },
  {
   "cell_type": "code",
   "execution_count": 26,
   "id": "7ee7d46c",
   "metadata": {},
   "outputs": [
    {
     "name": "stdout",
     "output_type": "stream",
     "text": [
      "MSE: 2294101060.0785193\n",
      "RMSE 47896.775048833086\n"
     ]
    }
   ],
   "source": [
    "mse = mean_squared_error(y_test, Y_prediction)\n",
    "print(\"MSE:\", mse)\n",
    "RMSE = np.sqrt(mse)\n",
    "print(\"RMSE\", RMSE)"
   ]
  },
  {
   "cell_type": "code",
   "execution_count": 27,
   "id": "ea2430a7",
   "metadata": {},
   "outputs": [],
   "source": [
    "from sklearn.metrics import r2_score\n"
   ]
  },
  {
   "cell_type": "code",
   "execution_count": 28,
   "id": "cc6e7aed",
   "metadata": {},
   "outputs": [
    {
     "name": "stdout",
     "output_type": "stream",
     "text": [
      "R²: 0.7071557275442308\n"
     ]
    }
   ],
   "source": [
    "r2 = r2_score(y_test, Y_prediction)\n",
    "print(\"R²:\", r2)"
   ]
  },
  {
   "cell_type": "code",
   "execution_count": 32,
   "id": "d3ef832b",
   "metadata": {},
   "outputs": [],
   "source": [
    "MLROLS = MultiLinearReg()"
   ]
  },
  {
   "cell_type": "code",
   "execution_count": 33,
   "id": "8798c13b",
   "metadata": {},
   "outputs": [
    {
     "data": {
      "text/plain": [
       "(181249.09491193743,\n",
       " array([ -7136.30617446,  -1564.56818221,   4379.95150549,   -376.37014906,\n",
       "         15862.70971414,  25355.10515745,   5934.92597073, -11867.03730717,\n",
       "         -7965.7838044 ,  11168.27633411,   9524.96179133,  14058.5367313 ,\n",
       "          8647.72019483]))"
      ]
     },
     "execution_count": 33,
     "metadata": {},
     "output_type": "execute_result"
    }
   ],
   "source": [
    "MLROLS.fit(X_train,y_train)"
   ]
  },
  {
   "cell_type": "code",
   "execution_count": 34,
   "id": "500e692b",
   "metadata": {},
   "outputs": [
    {
     "data": {
      "text/plain": [
       "array([ -7136.30617446,  -1564.56818221,   4379.95150549,   -376.37014906,\n",
       "        15862.70971414,  25355.10515745,   5934.92597073, -11867.03730717,\n",
       "        -7965.7838044 ,  11168.27633411,   9524.96179133,  14058.5367313 ,\n",
       "         8647.72019483])"
      ]
     },
     "execution_count": 34,
     "metadata": {},
     "output_type": "execute_result"
    }
   ],
   "source": [
    "LinReg.coef_"
   ]
  },
  {
   "cell_type": "code",
   "execution_count": 35,
   "id": "e8c9e67d",
   "metadata": {},
   "outputs": [
    {
     "data": {
      "text/plain": [
       "181249.09491193737"
      ]
     },
     "execution_count": 35,
     "metadata": {},
     "output_type": "execute_result"
    }
   ],
   "source": [
    "LinReg.intercept_"
   ]
  },
  {
   "cell_type": "code",
   "execution_count": null,
   "id": "49ede5d7",
   "metadata": {},
   "outputs": [],
   "source": []
  }
 ],
 "metadata": {
  "kernelspec": {
   "display_name": "Python 3 (ipykernel)",
   "language": "python",
   "name": "python3"
  },
  "language_info": {
   "codemirror_mode": {
    "name": "ipython",
    "version": 3
   },
   "file_extension": ".py",
   "mimetype": "text/x-python",
   "name": "python",
   "nbconvert_exporter": "python",
   "pygments_lexer": "ipython3",
   "version": "3.9.13"
  }
 },
 "nbformat": 4,
 "nbformat_minor": 5
}
