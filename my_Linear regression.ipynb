{
 "cells": [
  {
   "cell_type": "code",
   "execution_count": 60,
   "id": "494eab2b",
   "metadata": {},
   "outputs": [],
   "source": [
    "import pandas as pd\n",
    "import numpy as np\n",
    "from sklearn.model_selection import train_test_split\n"
   ]
  },
  {
   "cell_type": "code",
   "execution_count": 61,
   "id": "58062c9a",
   "metadata": {},
   "outputs": [],
   "source": [
    "class My_LinearRegression:\n",
    "    def __init__(self):\n",
    "        self.m = 0.0\n",
    "        self.b = 0.0\n",
    "\n",
    "    def fit(self, Xtrain, Ytrain):\n",
    "        \"\"\"\n",
    "        Fit the model using least squares method.\n",
    "        \"\"\"\n",
    "        Xtrain = np.ravel(Xtrain)\n",
    "        Ytrain = np.ravel(Ytrain)\n",
    "\n",
    "        num = np.sum((Ytrain - Ytrain.mean()) * (Xtrain - Xtrain.mean()))\n",
    "        den = np.sum((Xtrain - Xtrain.mean()) ** 2)\n",
    "\n",
    "        self.m = num / den\n",
    "        self.b = Ytrain.mean() - (self.m * Xtrain.mean())\n",
    "\n",
    "        return self.m, self.b\n",
    "\n",
    "    def predict(self, Xtest):\n",
    "        \"\"\"\n",
    "        Predict target values for given Xtest.\n",
    "        \"\"\"\n",
    "        Xtest = np.ravel(Xtest)\n",
    "        return self.m * Xtest + self.b\n",
    "\n",
    "    def r2_score(self, X, Y):\n",
    "        \"\"\"\n",
    "        Coefficient of determination (R²).\n",
    "        \"\"\"\n",
    "        Y = np.ravel(Y)\n",
    "        y_pred = self.predict(X)\n",
    "        ss_res = np.sum((Y - y_pred) ** 2)\n",
    "        ss_tot = np.sum((Y - Y.mean()) ** 2)\n",
    "        return 1 - (ss_res / ss_tot)\n",
    "\n",
    "    def mse(self, X, Y):\n",
    "        \"\"\"\n",
    "        Mean Squared Error (MSE).\n",
    "        \"\"\"\n",
    "        Y = np.ravel(Y)\n",
    "        y_pred = self.predict(X)\n",
    "        return np.mean((Y - y_pred) ** 2)\n",
    "\n",
    "    def rmse(self, X, Y):\n",
    "        \"\"\"\n",
    "        Root Mean Squared Error (RMSE).\n",
    "        \"\"\"\n",
    "        return np.sqrt(self.mse(X, Y))\n",
    "\n",
    "    def mae(self, X, Y):\n",
    "        \"\"\"\n",
    "        Mean Absolute Error (MAE).\n",
    "        \"\"\"\n",
    "        Y = np.ravel(Y)\n",
    "        y_pred = self.predict(X)\n",
    "        return np.mean(np.abs(Y - y_pred))\n"
   ]
  },
  {
   "cell_type": "code",
   "execution_count": 62,
   "id": "1177b041",
   "metadata": {},
   "outputs": [],
   "source": [
    "X_train,X_test,Y_train,Y_test = train_test_split(X,Y,test_size=0.3,random_state=17)\n"
   ]
  },
  {
   "cell_type": "code",
   "execution_count": 63,
   "id": "cdea5980",
   "metadata": {},
   "outputs": [
    {
     "data": {
      "text/plain": [
       "(70.34285379498183, -0.31279005805218674)"
      ]
     },
     "execution_count": 63,
     "metadata": {},
     "output_type": "execute_result"
    }
   ],
   "source": [
    "data = pd.read_csv(\"data/simple_regression.csv\")\n",
    "data.head()\n",
    "X=data.iloc[:,0]\n",
    "Y=data.iloc[:,1]\n",
    "X_train,X_test,y_train,y_test = train_test_split(X,Y,test_size=0.3,random_state=24)\n",
    "MY_SLR=My_Simple_LR()\n",
    "MY_SLR.fit(X_train,y_train)\n"
   ]
  },
  {
   "cell_type": "code",
   "execution_count": 64,
   "id": "b426da3a",
   "metadata": {},
   "outputs": [],
   "source": [
    "Y_Pred=MY_SLR.predict(X_test)"
   ]
  },
  {
   "cell_type": "code",
   "execution_count": 65,
   "id": "2fe42e88",
   "metadata": {},
   "outputs": [
    {
     "data": {
      "text/plain": [
       "1.5184117777247128"
      ]
     },
     "execution_count": 65,
     "metadata": {},
     "output_type": "execute_result"
    }
   ],
   "source": [
    "MY_SLR.mae(X_test,y_test)"
   ]
  },
  {
   "cell_type": "code",
   "execution_count": 66,
   "id": "c837d05e",
   "metadata": {},
   "outputs": [
    {
     "data": {
      "text/plain": [
       "3.3817850408617476"
      ]
     },
     "execution_count": 66,
     "metadata": {},
     "output_type": "execute_result"
    }
   ],
   "source": [
    "MY_SLR.mse(X_test,y_test)"
   ]
  },
  {
   "cell_type": "code",
   "execution_count": 67,
   "id": "32599177",
   "metadata": {},
   "outputs": [
    {
     "data": {
      "text/plain": [
       "1.8389630341205196"
      ]
     },
     "execution_count": 67,
     "metadata": {},
     "output_type": "execute_result"
    }
   ],
   "source": [
    "MY_SLR.rmse(X_test,y_test)"
   ]
  },
  {
   "cell_type": "code",
   "execution_count": 68,
   "id": "cf1e3b26",
   "metadata": {},
   "outputs": [
    {
     "data": {
      "text/plain": [
       "0.9993074893978793"
      ]
     },
     "execution_count": 68,
     "metadata": {},
     "output_type": "execute_result"
    }
   ],
   "source": [
    "MY_SLR.r2_score(X_test,y_test)"
   ]
  },
  {
   "cell_type": "code",
   "execution_count": null,
   "id": "f743e7ee",
   "metadata": {},
   "outputs": [],
   "source": []
  }
 ],
 "metadata": {
  "kernelspec": {
   "display_name": "Python 3 (ipykernel)",
   "language": "python",
   "name": "python3"
  },
  "language_info": {
   "codemirror_mode": {
    "name": "ipython",
    "version": 3
   },
   "file_extension": ".py",
   "mimetype": "text/x-python",
   "name": "python",
   "nbconvert_exporter": "python",
   "pygments_lexer": "ipython3",
   "version": "3.9.13"
  }
 },
 "nbformat": 4,
 "nbformat_minor": 5
}
