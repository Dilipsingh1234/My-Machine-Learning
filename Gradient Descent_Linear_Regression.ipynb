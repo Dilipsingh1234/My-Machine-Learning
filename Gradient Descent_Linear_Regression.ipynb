{
 "cells": [
  {
   "cell_type": "code",
   "execution_count": 3,
   "id": "0d08b461",
   "metadata": {},
   "outputs": [],
   "source": [
    "import numpy as np\n",
    "import pandas as pd"
   ]
  },
  {
   "cell_type": "code",
   "execution_count": 103,
   "id": "81251dd8",
   "metadata": {},
   "outputs": [],
   "source": [
    "class Gradient_descent:\n",
    "    def __init__(self,epochs=100,Learning_rate=0.01):\n",
    "        self.intercept_=None\n",
    "        self.coefficients_=None\n",
    "        self.epochs=epochs\n",
    "        self.Lr=Learning_rate\n",
    "    def fit(self,X_train,y_train):\n",
    "        self.intercept_=0\n",
    "        self.coefficients_=np.ones(X_train.shape[1])\n",
    "        for i in range(self.epochs):\n",
    "            y_hat = self.intercept_ + np.dot(X_train,self.coefficients_)\n",
    "            intercept_der = -2 * np.mean(y_train-y_hat)\n",
    "            self.intercept_=self.intercept_ - (self.Lr*intercept_der)\n",
    "\n",
    "            coefficients_der = -2 * np.dot((y_train - y_hat),X_train)/X_train.shape[0]\n",
    "            self.coefficients_ = self.coefficients_ - (self.Lr*coefficients_der)\n",
    "        return self.intercept_,self.coefficients_\n",
    "    def predict(self,X_test):\n",
    "        Y_pred = np.dot(X_test,self.coefficients_)+self.intercept_\n",
    "        return Y_pred\n",
    "    "
   ]
  },
  {
   "cell_type": "code",
   "execution_count": 56,
   "id": "d3b378cc",
   "metadata": {},
   "outputs": [],
   "source": [
    "data = pd.read_csv(\"data/housing_data.csv\")"
   ]
  },
  {
   "cell_type": "code",
   "execution_count": 57,
   "id": "40b91f6c",
   "metadata": {},
   "outputs": [
    {
     "data": {
      "text/html": [
       "<div>\n",
       "<style scoped>\n",
       "    .dataframe tbody tr th:only-of-type {\n",
       "        vertical-align: middle;\n",
       "    }\n",
       "\n",
       "    .dataframe tbody tr th {\n",
       "        vertical-align: top;\n",
       "    }\n",
       "\n",
       "    .dataframe thead th {\n",
       "        text-align: right;\n",
       "    }\n",
       "</style>\n",
       "<table border=\"1\" class=\"dataframe\">\n",
       "  <thead>\n",
       "    <tr style=\"text-align: right;\">\n",
       "      <th></th>\n",
       "      <th>BuildingType</th>\n",
       "      <th>SaleCondition</th>\n",
       "    </tr>\n",
       "  </thead>\n",
       "  <tbody>\n",
       "    <tr>\n",
       "      <th>0</th>\n",
       "      <td>1Family</td>\n",
       "      <td>Normal</td>\n",
       "    </tr>\n",
       "    <tr>\n",
       "      <th>1</th>\n",
       "      <td>1Family</td>\n",
       "      <td>Normal</td>\n",
       "    </tr>\n",
       "    <tr>\n",
       "      <th>2</th>\n",
       "      <td>1Family</td>\n",
       "      <td>Normal</td>\n",
       "    </tr>\n",
       "    <tr>\n",
       "      <th>3</th>\n",
       "      <td>1Family</td>\n",
       "      <td>Abnormal</td>\n",
       "    </tr>\n",
       "    <tr>\n",
       "      <th>4</th>\n",
       "      <td>1Family</td>\n",
       "      <td>Normal</td>\n",
       "    </tr>\n",
       "    <tr>\n",
       "      <th>...</th>\n",
       "      <td>...</td>\n",
       "      <td>...</td>\n",
       "    </tr>\n",
       "    <tr>\n",
       "      <th>1455</th>\n",
       "      <td>1Family</td>\n",
       "      <td>Normal</td>\n",
       "    </tr>\n",
       "    <tr>\n",
       "      <th>1456</th>\n",
       "      <td>1Family</td>\n",
       "      <td>Normal</td>\n",
       "    </tr>\n",
       "    <tr>\n",
       "      <th>1457</th>\n",
       "      <td>1Family</td>\n",
       "      <td>Normal</td>\n",
       "    </tr>\n",
       "    <tr>\n",
       "      <th>1458</th>\n",
       "      <td>1Family</td>\n",
       "      <td>Normal</td>\n",
       "    </tr>\n",
       "    <tr>\n",
       "      <th>1459</th>\n",
       "      <td>1Family</td>\n",
       "      <td>Normal</td>\n",
       "    </tr>\n",
       "  </tbody>\n",
       "</table>\n",
       "<p>1460 rows × 2 columns</p>\n",
       "</div>"
      ],
      "text/plain": [
       "     BuildingType SaleCondition\n",
       "0         1Family        Normal\n",
       "1         1Family        Normal\n",
       "2         1Family        Normal\n",
       "3         1Family      Abnormal\n",
       "4         1Family        Normal\n",
       "...           ...           ...\n",
       "1455      1Family        Normal\n",
       "1456      1Family        Normal\n",
       "1457      1Family        Normal\n",
       "1458      1Family        Normal\n",
       "1459      1Family        Normal\n",
       "\n",
       "[1460 rows x 2 columns]"
      ]
     },
     "execution_count": 57,
     "metadata": {},
     "output_type": "execute_result"
    }
   ],
   "source": [
    "data.select_dtypes(include=[\"object\",\"category\"])"
   ]
  },
  {
   "cell_type": "code",
   "execution_count": 58,
   "id": "880b4e70",
   "metadata": {},
   "outputs": [],
   "source": [
    "data.drop(columns=data.select_dtypes(include=[\"object\",\"category\"]).columns,inplace=True)"
   ]
  },
  {
   "cell_type": "code",
   "execution_count": 59,
   "id": "383c7ff0",
   "metadata": {},
   "outputs": [
    {
     "data": {
      "text/html": [
       "<div>\n",
       "<style scoped>\n",
       "    .dataframe tbody tr th:only-of-type {\n",
       "        vertical-align: middle;\n",
       "    }\n",
       "\n",
       "    .dataframe tbody tr th {\n",
       "        vertical-align: top;\n",
       "    }\n",
       "\n",
       "    .dataframe thead th {\n",
       "        text-align: right;\n",
       "    }\n",
       "</style>\n",
       "<table border=\"1\" class=\"dataframe\">\n",
       "  <thead>\n",
       "    <tr style=\"text-align: right;\">\n",
       "      <th></th>\n",
       "      <th>BuildingClass</th>\n",
       "      <th>StreetSize</th>\n",
       "      <th>LotArea</th>\n",
       "      <th>OverallCondition</th>\n",
       "      <th>YearRemodeled</th>\n",
       "      <th>LivingAreaSize</th>\n",
       "      <th>Bathroom</th>\n",
       "      <th>Bedroom</th>\n",
       "      <th>Kitchen</th>\n",
       "      <th>TotalRooms</th>\n",
       "      <th>Fireplaces</th>\n",
       "      <th>GarageCars</th>\n",
       "      <th>GarageArea</th>\n",
       "      <th>SalePrice</th>\n",
       "    </tr>\n",
       "  </thead>\n",
       "  <tbody>\n",
       "    <tr>\n",
       "      <th>0</th>\n",
       "      <td>60.0</td>\n",
       "      <td>65.0</td>\n",
       "      <td>8450.0</td>\n",
       "      <td>5.0</td>\n",
       "      <td>2003.0</td>\n",
       "      <td>1710.0</td>\n",
       "      <td>2.0</td>\n",
       "      <td>3.0</td>\n",
       "      <td>1.0</td>\n",
       "      <td>8.0</td>\n",
       "      <td>0.0</td>\n",
       "      <td>2.0</td>\n",
       "      <td>548.0</td>\n",
       "      <td>208500</td>\n",
       "    </tr>\n",
       "    <tr>\n",
       "      <th>1</th>\n",
       "      <td>20.0</td>\n",
       "      <td>80.0</td>\n",
       "      <td>9600.0</td>\n",
       "      <td>8.0</td>\n",
       "      <td>NaN</td>\n",
       "      <td>1262.0</td>\n",
       "      <td>2.0</td>\n",
       "      <td>3.0</td>\n",
       "      <td>1.0</td>\n",
       "      <td>6.0</td>\n",
       "      <td>1.0</td>\n",
       "      <td>2.0</td>\n",
       "      <td>460.0</td>\n",
       "      <td>181500</td>\n",
       "    </tr>\n",
       "    <tr>\n",
       "      <th>2</th>\n",
       "      <td>60.0</td>\n",
       "      <td>68.0</td>\n",
       "      <td>11250.0</td>\n",
       "      <td>5.0</td>\n",
       "      <td>NaN</td>\n",
       "      <td>1786.0</td>\n",
       "      <td>2.0</td>\n",
       "      <td>3.0</td>\n",
       "      <td>1.0</td>\n",
       "      <td>6.0</td>\n",
       "      <td>1.0</td>\n",
       "      <td>2.0</td>\n",
       "      <td>608.0</td>\n",
       "      <td>223500</td>\n",
       "    </tr>\n",
       "    <tr>\n",
       "      <th>3</th>\n",
       "      <td>70.0</td>\n",
       "      <td>60.0</td>\n",
       "      <td>9550.0</td>\n",
       "      <td>5.0</td>\n",
       "      <td>1970.0</td>\n",
       "      <td>1717.0</td>\n",
       "      <td>1.0</td>\n",
       "      <td>3.0</td>\n",
       "      <td>1.0</td>\n",
       "      <td>7.0</td>\n",
       "      <td>1.0</td>\n",
       "      <td>3.0</td>\n",
       "      <td>642.0</td>\n",
       "      <td>140000</td>\n",
       "    </tr>\n",
       "    <tr>\n",
       "      <th>4</th>\n",
       "      <td>60.0</td>\n",
       "      <td>84.0</td>\n",
       "      <td>14260.0</td>\n",
       "      <td>5.0</td>\n",
       "      <td>2000.0</td>\n",
       "      <td>2198.0</td>\n",
       "      <td>2.0</td>\n",
       "      <td>4.0</td>\n",
       "      <td>NaN</td>\n",
       "      <td>9.0</td>\n",
       "      <td>1.0</td>\n",
       "      <td>3.0</td>\n",
       "      <td>836.0</td>\n",
       "      <td>250000</td>\n",
       "    </tr>\n",
       "  </tbody>\n",
       "</table>\n",
       "</div>"
      ],
      "text/plain": [
       "   BuildingClass  StreetSize  LotArea  OverallCondition  YearRemodeled  \\\n",
       "0           60.0        65.0   8450.0               5.0         2003.0   \n",
       "1           20.0        80.0   9600.0               8.0            NaN   \n",
       "2           60.0        68.0  11250.0               5.0            NaN   \n",
       "3           70.0        60.0   9550.0               5.0         1970.0   \n",
       "4           60.0        84.0  14260.0               5.0         2000.0   \n",
       "\n",
       "   LivingAreaSize  Bathroom  Bedroom  Kitchen  TotalRooms  Fireplaces  \\\n",
       "0          1710.0       2.0      3.0      1.0         8.0         0.0   \n",
       "1          1262.0       2.0      3.0      1.0         6.0         1.0   \n",
       "2          1786.0       2.0      3.0      1.0         6.0         1.0   \n",
       "3          1717.0       1.0      3.0      1.0         7.0         1.0   \n",
       "4          2198.0       2.0      4.0      NaN         9.0         1.0   \n",
       "\n",
       "   GarageCars  GarageArea  SalePrice  \n",
       "0         2.0       548.0     208500  \n",
       "1         2.0       460.0     181500  \n",
       "2         2.0       608.0     223500  \n",
       "3         3.0       642.0     140000  \n",
       "4         3.0       836.0     250000  "
      ]
     },
     "execution_count": 59,
     "metadata": {},
     "output_type": "execute_result"
    }
   ],
   "source": [
    "data.head()"
   ]
  },
  {
   "cell_type": "code",
   "execution_count": 60,
   "id": "73d798f0",
   "metadata": {},
   "outputs": [
    {
     "data": {
      "text/plain": [
       "BuildingClass        81\n",
       "StreetSize          317\n",
       "LotArea              81\n",
       "OverallCondition     58\n",
       "YearRemodeled        76\n",
       "LivingAreaSize       82\n",
       "Bathroom             56\n",
       "Bedroom              64\n",
       "Kitchen              77\n",
       "TotalRooms           63\n",
       "Fireplaces           73\n",
       "GarageCars           65\n",
       "GarageArea           67\n",
       "SalePrice             0\n",
       "dtype: int64"
      ]
     },
     "execution_count": 60,
     "metadata": {},
     "output_type": "execute_result"
    }
   ],
   "source": [
    "data.isnull().sum()"
   ]
  },
  {
   "cell_type": "code",
   "execution_count": 61,
   "id": "27302674",
   "metadata": {},
   "outputs": [],
   "source": [
    "from sklearn.model_selection import train_test_split"
   ]
  },
  {
   "cell_type": "code",
   "execution_count": 62,
   "id": "07c86b37",
   "metadata": {},
   "outputs": [],
   "source": [
    "X = data.iloc[:,0:13]\n",
    "Y=data.iloc[:,13]"
   ]
  },
  {
   "cell_type": "code",
   "execution_count": 63,
   "id": "14c7a2a6",
   "metadata": {},
   "outputs": [],
   "source": [
    "X_train,X_test,y_train,y_test = train_test_split(X,Y,test_size=0.30,random_state=24)"
   ]
  },
  {
   "cell_type": "code",
   "execution_count": 64,
   "id": "f227b4b3",
   "metadata": {},
   "outputs": [
    {
     "data": {
      "text/plain": [
       "BuildingClass        52\n",
       "StreetSize          216\n",
       "LotArea              57\n",
       "OverallCondition     36\n",
       "YearRemodeled        54\n",
       "LivingAreaSize       59\n",
       "Bathroom             37\n",
       "Bedroom              49\n",
       "Kitchen              55\n",
       "TotalRooms           46\n",
       "Fireplaces           56\n",
       "GarageCars           41\n",
       "GarageArea           48\n",
       "dtype: int64"
      ]
     },
     "execution_count": 64,
     "metadata": {},
     "output_type": "execute_result"
    }
   ],
   "source": [
    "X_train.isnull().sum()"
   ]
  },
  {
   "cell_type": "code",
   "execution_count": 65,
   "id": "961259ef",
   "metadata": {},
   "outputs": [
    {
     "name": "stdout",
     "output_type": "stream",
     "text": [
      "['BuildingClass', 'StreetSize', 'LotArea', 'OverallCondition', 'YearRemodeled', 'LivingAreaSize', 'Bathroom', 'Bedroom', 'Kitchen', 'TotalRooms', 'Fireplaces', 'GarageCars', 'GarageArea']\n"
     ]
    }
   ],
   "source": [
    "cols = X_train.columns.tolist()\n",
    "print(cols)"
   ]
  },
  {
   "cell_type": "code",
   "execution_count": 66,
   "id": "88daeb15",
   "metadata": {},
   "outputs": [],
   "source": [
    "for col in cols:\n",
    "    mean_val = X_train[col].mean()\n",
    "    X_train[col].fillna(mean_val, inplace=True)\n",
    "    X_test[col].fillna(mean_val, inplace=True)\n"
   ]
  },
  {
   "cell_type": "code",
   "execution_count": 67,
   "id": "bd58d06f",
   "metadata": {},
   "outputs": [
    {
     "data": {
      "text/plain": [
       "0"
      ]
     },
     "execution_count": 67,
     "metadata": {},
     "output_type": "execute_result"
    }
   ],
   "source": [
    "y_train.isnull().sum()"
   ]
  },
  {
   "cell_type": "code",
   "execution_count": 68,
   "id": "0fe3d4d3",
   "metadata": {},
   "outputs": [
    {
     "data": {
      "text/plain": [
       "0"
      ]
     },
     "execution_count": 68,
     "metadata": {},
     "output_type": "execute_result"
    }
   ],
   "source": [
    "y_test.isnull().sum()"
   ]
  },
  {
   "cell_type": "code",
   "execution_count": 69,
   "id": "85279a42",
   "metadata": {},
   "outputs": [
    {
     "data": {
      "text/plain": [
       "BuildingClass       0\n",
       "StreetSize          0\n",
       "LotArea             0\n",
       "OverallCondition    0\n",
       "YearRemodeled       0\n",
       "LivingAreaSize      0\n",
       "Bathroom            0\n",
       "Bedroom             0\n",
       "Kitchen             0\n",
       "TotalRooms          0\n",
       "Fireplaces          0\n",
       "GarageCars          0\n",
       "GarageArea          0\n",
       "dtype: int64"
      ]
     },
     "execution_count": 69,
     "metadata": {},
     "output_type": "execute_result"
    }
   ],
   "source": [
    "X_train.isnull().sum()\n"
   ]
  },
  {
   "cell_type": "code",
   "execution_count": 70,
   "id": "ba57c6bb",
   "metadata": {},
   "outputs": [
    {
     "data": {
      "text/plain": [
       "BuildingClass       0\n",
       "StreetSize          0\n",
       "LotArea             0\n",
       "OverallCondition    0\n",
       "YearRemodeled       0\n",
       "LivingAreaSize      0\n",
       "Bathroom            0\n",
       "Bedroom             0\n",
       "Kitchen             0\n",
       "TotalRooms          0\n",
       "Fireplaces          0\n",
       "GarageCars          0\n",
       "GarageArea          0\n",
       "dtype: int64"
      ]
     },
     "execution_count": 70,
     "metadata": {},
     "output_type": "execute_result"
    }
   ],
   "source": [
    "X_test.isnull().sum()"
   ]
  },
  {
   "cell_type": "code",
   "execution_count": 72,
   "id": "a2a5f3d7",
   "metadata": {},
   "outputs": [],
   "source": [
    "from sklearn.preprocessing import StandardScaler"
   ]
  },
  {
   "cell_type": "code",
   "execution_count": 74,
   "id": "f85493e3",
   "metadata": {},
   "outputs": [],
   "source": [
    "std = StandardScaler()"
   ]
  },
  {
   "cell_type": "code",
   "execution_count": 76,
   "id": "0f95bc4e",
   "metadata": {},
   "outputs": [],
   "source": [
    "X_train = std.fit_transform(X_train)"
   ]
  },
  {
   "cell_type": "code",
   "execution_count": 87,
   "id": "72bf1145",
   "metadata": {},
   "outputs": [],
   "source": [
    "X_test = std.transform(X_test)"
   ]
  },
  {
   "cell_type": "code",
   "execution_count": 88,
   "id": "1f2edf18",
   "metadata": {},
   "outputs": [],
   "source": [
    "from sklearn.linear_model import LinearRegression"
   ]
  },
  {
   "cell_type": "code",
   "execution_count": 89,
   "id": "3ed9109c",
   "metadata": {},
   "outputs": [],
   "source": [
    "LinReg = LinearRegression()"
   ]
  },
  {
   "cell_type": "code",
   "execution_count": 90,
   "id": "71b6c3da",
   "metadata": {},
   "outputs": [
    {
     "data": {
      "text/html": [
       "<style>#sk-container-id-1 {color: black;}#sk-container-id-1 pre{padding: 0;}#sk-container-id-1 div.sk-toggleable {background-color: white;}#sk-container-id-1 label.sk-toggleable__label {cursor: pointer;display: block;width: 100%;margin-bottom: 0;padding: 0.3em;box-sizing: border-box;text-align: center;}#sk-container-id-1 label.sk-toggleable__label-arrow:before {content: \"▸\";float: left;margin-right: 0.25em;color: #696969;}#sk-container-id-1 label.sk-toggleable__label-arrow:hover:before {color: black;}#sk-container-id-1 div.sk-estimator:hover label.sk-toggleable__label-arrow:before {color: black;}#sk-container-id-1 div.sk-toggleable__content {max-height: 0;max-width: 0;overflow: hidden;text-align: left;background-color: #f0f8ff;}#sk-container-id-1 div.sk-toggleable__content pre {margin: 0.2em;color: black;border-radius: 0.25em;background-color: #f0f8ff;}#sk-container-id-1 input.sk-toggleable__control:checked~div.sk-toggleable__content {max-height: 200px;max-width: 100%;overflow: auto;}#sk-container-id-1 input.sk-toggleable__control:checked~label.sk-toggleable__label-arrow:before {content: \"▾\";}#sk-container-id-1 div.sk-estimator input.sk-toggleable__control:checked~label.sk-toggleable__label {background-color: #d4ebff;}#sk-container-id-1 div.sk-label input.sk-toggleable__control:checked~label.sk-toggleable__label {background-color: #d4ebff;}#sk-container-id-1 input.sk-hidden--visually {border: 0;clip: rect(1px 1px 1px 1px);clip: rect(1px, 1px, 1px, 1px);height: 1px;margin: -1px;overflow: hidden;padding: 0;position: absolute;width: 1px;}#sk-container-id-1 div.sk-estimator {font-family: monospace;background-color: #f0f8ff;border: 1px dotted black;border-radius: 0.25em;box-sizing: border-box;margin-bottom: 0.5em;}#sk-container-id-1 div.sk-estimator:hover {background-color: #d4ebff;}#sk-container-id-1 div.sk-parallel-item::after {content: \"\";width: 100%;border-bottom: 1px solid gray;flex-grow: 1;}#sk-container-id-1 div.sk-label:hover label.sk-toggleable__label {background-color: #d4ebff;}#sk-container-id-1 div.sk-serial::before {content: \"\";position: absolute;border-left: 1px solid gray;box-sizing: border-box;top: 0;bottom: 0;left: 50%;z-index: 0;}#sk-container-id-1 div.sk-serial {display: flex;flex-direction: column;align-items: center;background-color: white;padding-right: 0.2em;padding-left: 0.2em;position: relative;}#sk-container-id-1 div.sk-item {position: relative;z-index: 1;}#sk-container-id-1 div.sk-parallel {display: flex;align-items: stretch;justify-content: center;background-color: white;position: relative;}#sk-container-id-1 div.sk-item::before, #sk-container-id-1 div.sk-parallel-item::before {content: \"\";position: absolute;border-left: 1px solid gray;box-sizing: border-box;top: 0;bottom: 0;left: 50%;z-index: -1;}#sk-container-id-1 div.sk-parallel-item {display: flex;flex-direction: column;z-index: 1;position: relative;background-color: white;}#sk-container-id-1 div.sk-parallel-item:first-child::after {align-self: flex-end;width: 50%;}#sk-container-id-1 div.sk-parallel-item:last-child::after {align-self: flex-start;width: 50%;}#sk-container-id-1 div.sk-parallel-item:only-child::after {width: 0;}#sk-container-id-1 div.sk-dashed-wrapped {border: 1px dashed gray;margin: 0 0.4em 0.5em 0.4em;box-sizing: border-box;padding-bottom: 0.4em;background-color: white;}#sk-container-id-1 div.sk-label label {font-family: monospace;font-weight: bold;display: inline-block;line-height: 1.2em;}#sk-container-id-1 div.sk-label-container {text-align: center;}#sk-container-id-1 div.sk-container {/* jupyter's `normalize.less` sets `[hidden] { display: none; }` but bootstrap.min.css set `[hidden] { display: none !important; }` so we also need the `!important` here to be able to override the default hidden behavior on the sphinx rendered scikit-learn.org. See: https://github.com/scikit-learn/scikit-learn/issues/21755 */display: inline-block !important;position: relative;}#sk-container-id-1 div.sk-text-repr-fallback {display: none;}</style><div id=\"sk-container-id-1\" class=\"sk-top-container\"><div class=\"sk-text-repr-fallback\"><pre>LinearRegression()</pre><b>In a Jupyter environment, please rerun this cell to show the HTML representation or trust the notebook. <br />On GitHub, the HTML representation is unable to render, please try loading this page with nbviewer.org.</b></div><div class=\"sk-container\" hidden><div class=\"sk-item\"><div class=\"sk-estimator sk-toggleable\"><input class=\"sk-toggleable__control sk-hidden--visually\" id=\"sk-estimator-id-1\" type=\"checkbox\" checked><label for=\"sk-estimator-id-1\" class=\"sk-toggleable__label sk-toggleable__label-arrow\">LinearRegression</label><div class=\"sk-toggleable__content\"><pre>LinearRegression()</pre></div></div></div></div></div>"
      ],
      "text/plain": [
       "LinearRegression()"
      ]
     },
     "execution_count": 90,
     "metadata": {},
     "output_type": "execute_result"
    }
   ],
   "source": [
    "LinReg.fit(X_train,y_train)"
   ]
  },
  {
   "cell_type": "code",
   "execution_count": 92,
   "id": "e67421b5",
   "metadata": {},
   "outputs": [],
   "source": [
    "Y_prediction=LinReg.predict(X_test)"
   ]
  },
  {
   "cell_type": "code",
   "execution_count": 93,
   "id": "a33507f2",
   "metadata": {},
   "outputs": [],
   "source": [
    "from sklearn.metrics import mean_squared_error\n"
   ]
  },
  {
   "cell_type": "code",
   "execution_count": 94,
   "id": "f251dfba",
   "metadata": {},
   "outputs": [
    {
     "name": "stdout",
     "output_type": "stream",
     "text": [
      "MSE: 2294101060.0785193\n"
     ]
    }
   ],
   "source": [
    "mse = mean_squared_error(y_test, Y_prediction)\n",
    "print(\"MSE:\", mse)"
   ]
  },
  {
   "cell_type": "code",
   "execution_count": 95,
   "id": "60d143cb",
   "metadata": {},
   "outputs": [
    {
     "name": "stdout",
     "output_type": "stream",
     "text": [
      "RMSE 47896.775048833086\n"
     ]
    }
   ],
   "source": [
    "RMSE = np.sqrt(mse)\n",
    "print(\"RMSE\", RMSE)"
   ]
  },
  {
   "cell_type": "code",
   "execution_count": 96,
   "id": "21ec5f4e",
   "metadata": {},
   "outputs": [],
   "source": [
    "from sklearn.metrics import r2_score\n"
   ]
  },
  {
   "cell_type": "code",
   "execution_count": 97,
   "id": "e3ab4e52",
   "metadata": {},
   "outputs": [
    {
     "name": "stdout",
     "output_type": "stream",
     "text": [
      "R²: 0.7071557275442308\n"
     ]
    }
   ],
   "source": [
    "r2 = r2_score(y_test, Y_prediction)\n",
    "print(\"R²:\", r2)"
   ]
  },
  {
   "cell_type": "markdown",
   "id": "e3ae2b88",
   "metadata": {},
   "source": [
    "### MSE: 2294101060.0785193\n",
    "RMSE 47896.775048833086\n",
    "R²: 0.7071557275442308\n"
   ]
  },
  {
   "cell_type": "code",
   "execution_count": 108,
   "id": "71ca1973",
   "metadata": {},
   "outputs": [],
   "source": [
    "GD = Gradient_descent(100,0.2)"
   ]
  },
  {
   "cell_type": "code",
   "execution_count": 109,
   "id": "d4a22035",
   "metadata": {},
   "outputs": [
    {
     "data": {
      "text/plain": [
       "(181249.09491193737,\n",
       " array([ -7134.44470998,  -1564.75875726,   4380.32811202,   -376.21332372,\n",
       "         15862.65040165,  25343.48739178,   5937.66403048, -11869.39414997,\n",
       "         -7967.74604256,  11179.63332625,   9526.15462912,  14042.73890881,\n",
       "          8663.91029018]))"
      ]
     },
     "execution_count": 109,
     "metadata": {},
     "output_type": "execute_result"
    }
   ],
   "source": [
    "GD.fit(X_train,y_train)"
   ]
  },
  {
   "cell_type": "code",
   "execution_count": 106,
   "id": "a57fc6b6",
   "metadata": {},
   "outputs": [
    {
     "data": {
      "text/plain": [
       "181249.09491193737"
      ]
     },
     "execution_count": 106,
     "metadata": {},
     "output_type": "execute_result"
    }
   ],
   "source": [
    "LinReg.intercept_"
   ]
  },
  {
   "cell_type": "code",
   "execution_count": 107,
   "id": "297f2406",
   "metadata": {},
   "outputs": [
    {
     "data": {
      "text/plain": [
       "array([ -7136.30617446,  -1564.56818221,   4379.95150549,   -376.37014906,\n",
       "        15862.70971414,  25355.10515745,   5934.92597073, -11867.03730717,\n",
       "        -7965.7838044 ,  11168.27633411,   9524.96179133,  14058.5367313 ,\n",
       "         8647.72019483])"
      ]
     },
     "execution_count": 107,
     "metadata": {},
     "output_type": "execute_result"
    }
   ],
   "source": [
    "LinReg.coef_"
   ]
  },
  {
   "cell_type": "code",
   "execution_count": 110,
   "id": "507e8d8a",
   "metadata": {},
   "outputs": [],
   "source": [
    "GD_Ypred = GD.predict(X_test)"
   ]
  },
  {
   "cell_type": "code",
   "execution_count": 111,
   "id": "4721f821",
   "metadata": {},
   "outputs": [],
   "source": [
    "gd_r2 = r2_score(y_test,GD_Ypred)"
   ]
  },
  {
   "cell_type": "code",
   "execution_count": 112,
   "id": "6b11b6af",
   "metadata": {},
   "outputs": [
    {
     "data": {
      "text/plain": [
       "0.7071445969449222"
      ]
     },
     "execution_count": 112,
     "metadata": {},
     "output_type": "execute_result"
    }
   ],
   "source": [
    "gd_r2"
   ]
  },
  {
   "cell_type": "code",
   "execution_count": null,
   "id": "27291d90",
   "metadata": {},
   "outputs": [],
   "source": []
  }
 ],
 "metadata": {
  "kernelspec": {
   "display_name": "Python 3 (ipykernel)",
   "language": "python",
   "name": "python3"
  },
  "language_info": {
   "codemirror_mode": {
    "name": "ipython",
    "version": 3
   },
   "file_extension": ".py",
   "mimetype": "text/x-python",
   "name": "python",
   "nbconvert_exporter": "python",
   "pygments_lexer": "ipython3",
   "version": "3.9.13"
  }
 },
 "nbformat": 4,
 "nbformat_minor": 5
}
